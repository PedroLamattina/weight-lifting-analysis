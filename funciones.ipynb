{
 "cells": [
  {
   "cell_type": "markdown",
   "metadata": {},
   "source": [
    "### Definición de Funciones ya armadas, en base al ejercicio"
   ]
  },
  {
   "cell_type": "markdown",
   "metadata": {},
   "source": [
    "* Transformación columnas Medallas a filas"
   ]
  },
  {
   "cell_type": "code",
   "execution_count": 1,
   "metadata": {},
   "outputs": [],
   "source": [
    "def Transformación_Medallas(df):\n",
    "    # Use pd.melt to transform the medal columns into rows\n",
    "    df_melted = pd.melt(df, id_vars=['Eventos', 'Año', 'Genero'], \n",
    "                        value_vars=['Oro', 'Plata', 'Bronce'], \n",
    "                        var_name='Medalla', value_name='Atleta')\n",
    "    \n",
    "    # Select and order columns in the desired format\n",
    "    df = df_melted[['Eventos', 'Año', 'Genero', 'Medalla', 'Atleta']]\n",
    "    \n",
    "    return df"
   ]
  },
  {
   "cell_type": "markdown",
   "metadata": {},
   "source": [
    "* Separación columna ``Eventos`` y ``Fechas``"
   ]
  },
  {
   "cell_type": "code",
   "execution_count": 2,
   "metadata": {},
   "outputs": [],
   "source": [
    "def Eventos_Fechas(df):\n",
    "    # Split 'Eventos' into 'Eventos' and 'Fechas' columns\n",
    "    df_aux = pd.DataFrame(df['Eventos'].str.split('(').to_list(), columns=['Eventos', 'Fechas'])\n",
    "    df_aux['Fechas'] = df_aux['Fechas'].str.replace(')', '', regex=False)\n",
    "    \n",
    "    # Update the original DataFrame with split values\n",
    "    df['Eventos'] = df_aux['Eventos']\n",
    "    df['Fechas'] = df_aux['Fechas']\n",
    "    \n",
    "    # Combine 'Fechas' with 'Año' and format dates\n",
    "    df['Fechas'] = df['Fechas'] + '.' + df['Año'].astype(str)\n",
    "    df['Fechas'] = df['Fechas'].str.replace('.', '-')\n",
    "    \n",
    "    # Convert 'Fechas' to datetime format\n",
    "    df['Fechas'] = pd.to_datetime(df['Fechas'], format='%d-%m-%Y').dt.strftime('%Y-%m-%d')\n",
    "    \n",
    "    return df    "
   ]
  },
  {
   "cell_type": "markdown",
   "metadata": {},
   "source": [
    "* Tratamiento Columnas ``Atletas``"
   ]
  },
  {
   "cell_type": "code",
   "execution_count": 3,
   "metadata": {},
   "outputs": [],
   "source": [
    "def extract_athlete_info(df):\n",
    "    name_pattern = r'(^\\w+ )'  # First name\n",
    "    last_name_pattern = r'^\\w+\\s+(\\w+)'  # Last name\n",
    "    # country_pattern = r\"([A-Za-záéíóúÁÉÍÓÚñÑ]+)\"\n",
    "    \n",
    "    country_pattern = r\"([A-Za-záéíóúÁÉÍÓÚñÑ]+)\\s+\\d+\"  # Country before a number\n",
    "    category_pattern = r'(\\d+)'  # Category (numeric) in Eventos column\n",
    "\n",
    "    # Additional replacement for 'AIN' variants to 'Bielorusia'\n",
    "    # df['Atleta'] = df['Atleta'].str.replace(r\"AIN(?:\\s+AIN)?(?:\\s+\\[a 1\\])?\", 'Bielorrusia', regex=True)\n",
    "\n",
    "    # Remove bracketed numbers and replace \"Reino Unido\" with \"ReinoUnido\"\n",
    "    df['Atleta'] = df['Atleta'].str.replace(r\"\\[\\d+\\]\", '', regex=True)\n",
    "    df['Atleta'] = df['Atleta'].str.replace(r\"Reino Unido\", 'ReinoUnido', regex=True)\n",
    "\n",
    "    #     \n",
    "    # df['Atleta'] = df['Atleta'].str.replace(r\"AIN AIN\\[\\s*a\\s*1\\s*\\]\", 'Bielorrusia', regex=True)\n",
    "    for column in ['Atleta']:\n",
    "        # Remove any remaining '[a 1]' in the 'Atleta' column\n",
    "        df[column] = df[column].str.replace(r'\\[a 1\\]', '', regex=True)\n",
    "        # Additional replacement for 'AIN' variants to 'Bielorrusia'\n",
    "        df[column] = df[column].str.replace(r\"AIN AIN\\[\\s*a\\s*1\\s*\\]\", 'Bielorrusia', regex=True)\n",
    "\n",
    "\n",
    "    # Extract Name, Last Name, and Country\n",
    "    df['Nombre'] = df['Atleta'].str.extract(name_pattern)\n",
    "    df['Apellido'] = df['Atleta'].str.extract(last_name_pattern)\n",
    "    df['Pais'] = df['Atleta'].str.extract(country_pattern)\n",
    "\n",
    "    # Fill NaN values in 'Pais' with 'Bielorrusia'\n",
    "    df['Pais'] = df['Pais'].fillna('Bielorrusia')\n",
    "\n",
    "    # Extract Category from Eventos column\n",
    "    df['Categoria'] = df['Eventos'].str.extract(category_pattern)\n",
    "\n",
    "    # Display the DataFrame structure and a preview of the data\n",
    "    print(df.info())\n",
    "    return df"
   ]
  },
  {
   "cell_type": "markdown",
   "metadata": {},
   "source": [
    "* Tratamiento columna ``Arrancada`` + ``Dos tiempos`` + ``Total``"
   ]
  },
  {
   "cell_type": "code",
   "execution_count": 4,
   "metadata": {},
   "outputs": [],
   "source": [
    "def puntaje_atleta(df):\n",
    "    # Define the patterns for extraction\n",
    "    arrancada_pattern = r'(\\d+)'                     # Captures any initial number\n",
    "    dos_tiempos_pattern = r'\\d+\\s*\\+\\s*(\\d+)'        # Captures any number after '+'\n",
    "\n",
    "    # Standardize the format: add a space after '+' only if missing\n",
    "    df['Atleta'] = df['Atleta'].str.replace(r'\\+(\\d+)', r'+ \\1', regex=True)\n",
    "\n",
    "    # Extract 'Arrancada' and 'Dos tiempos' values\n",
    "    df['Arrancada'] = df['Atleta'].str.extract(arrancada_pattern)\n",
    "    df['Dos tiempos'] = df['Atleta'].str.extract(dos_tiempos_pattern)\n",
    "\n",
    "    # Calculate the 'Resultado' by summing 'Arrancada' and 'Dos tiempos'\n",
    "    df['Resultado'] = df['Arrancada'].astype(float) + df['Dos tiempos'].astype(float)\n",
    "    \n",
    "    #Renombramos columna resultado a total\n",
    "    df = df.rename(columns={'Resultado':'Total'})\n",
    "\n",
    "    return df"
   ]
  },
  {
   "cell_type": "markdown",
   "metadata": {},
   "source": [
    "* Pasar ``Medallas`` a categorical"
   ]
  },
  {
   "cell_type": "code",
   "execution_count": 5,
   "metadata": {},
   "outputs": [],
   "source": [
    "def medalla_categorical(df):\n",
    "    #Pasamos Columna medalla a categorical\n",
    "    df['Medalla'] = pd.Categorical(df['Medalla'], categories=['Oro', 'Plata', 'Bronce'], ordered=True)\n",
    "   \n",
    "    #Sanity check para comprobar si efectivamente se transformó\n",
    "    print(df.info())\n",
    "    return df"
   ]
  },
  {
   "cell_type": "markdown",
   "metadata": {},
   "source": [
    "* Transformar datos a los ``Types`` buscados y orden final de las columnas"
   ]
  },
  {
   "cell_type": "code",
   "execution_count": 6,
   "metadata": {},
   "outputs": [],
   "source": [
    "def types(df):\n",
    "    #A las columnas deseadas elejimos el Type\n",
    "    df['Fechas'] = pd.to_datetime(df['Fechas'], format='%Y-%m-%d')\n",
    "    df['Arrancada'] = df['Arrancada'].astype('Int64')\n",
    "    df['Dos tiempos'] = df['Dos tiempos'].astype('Int64')\n",
    "    df['Total'] = df['Total'].astype('Int64')\n",
    "\n",
    "    #Ordenamos las columas según requisito\n",
    "    df = df.reindex(['Genero','Categoria','Fechas','Medalla','Nombre','Apellido','Pais','Arrancada','Dos tiempos','Total'],axis=1)\n",
    "    return df"
   ]
  },
  {
   "cell_type": "markdown",
   "metadata": {},
   "source": [
    "* Ordenar el df según  // ['Genero', 'Categoria', 'Medalla'] //"
   ]
  },
  {
   "cell_type": "code",
   "execution_count": 7,
   "metadata": {},
   "outputs": [],
   "source": [
    "def orden_final(df):\n",
    "    df = df.sort_values(by=['Genero','Fechas','Categoria','Medalla'], ascending=True)\n",
    "    return df"
   ]
  },
  {
   "cell_type": "markdown",
   "metadata": {},
   "source": [
    "* Análisis según Mediana"
   ]
  },
  {
   "cell_type": "code",
   "execution_count": 8,
   "metadata": {},
   "outputs": [],
   "source": [
    "def analisis_mediana_puntajes(df,variable_x,variable_y):\n",
    "    sns.boxplot(\n",
    "    data=df,\n",
    "    x=variable_x,\n",
    "    y=variable_y)"
   ]
  },
  {
   "cell_type": "markdown",
   "metadata": {},
   "source": [
    "* Graficar Correlaciones"
   ]
  },
  {
   "cell_type": "code",
   "execution_count": 9,
   "metadata": {},
   "outputs": [],
   "source": [
    "def graficar_correlacion(df, variable_x, variable_y):\n",
    "    # Convert columns to float to ensure compatibility with Plotly\n",
    "    df[variable_x] = df[variable_x].astype(float)\n",
    "    df[variable_y] = df[variable_y].astype(float)\n",
    "    # Crear el gráfico de dispersión usando Plotly Express para visualizar la correlación\n",
    "    fig = px.scatter(df, x=variable_x, y=variable_y,\n",
    "                     trendline='ols',  # Añade una línea de regresión\n",
    "                     labels={variable_x: variable_x, variable_y: variable_y},\n",
    "                     title=f'Correlación entre {variable_x} y {variable_y}')\n",
    "\n",
    "    # Actualizar el fondo del gráfico a blanco y ajustar la cuadrícula\n",
    "    fig.update_layout({\n",
    "        'plot_bgcolor': 'rgba(255, 255, 255, 1)',\n",
    "        'xaxis': {'showgrid': True, 'gridcolor': 'lightgrey'},\n",
    "        'yaxis': {'showgrid': True, 'gridcolor': 'lightgrey'}\n",
    "    })\n",
    "\n",
    "    # Mostrar el gráfico\n",
    "    fig.show()"
   ]
  },
  {
   "cell_type": "markdown",
   "metadata": {},
   "source": [
    "* Orden País según Medallas ganadas, Oro, Plata, Bronce"
   ]
  },
  {
   "cell_type": "code",
   "execution_count": 10,
   "metadata": {},
   "outputs": [],
   "source": [
    "#Como ya es Categorical, el orden de Medallas ya está armado\n",
    "\n",
    "def medallas_ganadas(df):\n",
    "    df_ordenado = (df\n",
    "               .sort_values(by=['Pais', 'Medalla'], ascending=[True, False])\n",
    "               .groupby('Pais')['Medalla']\n",
    "               .value_counts()\n",
    "               .unstack(fill_value=0)\n",
    "               .sort_values(by=['Oro', 'Plata', 'Bronce'], ascending=False))\n",
    "\n",
    "\n",
    "\n",
    "# Mostrar el DataFrame ordenado\n",
    "    return df_ordenado\n",
    "    "
   ]
  },
  {
   "cell_type": "code",
   "execution_count": null,
   "metadata": {},
   "outputs": [],
   "source": []
  },
  {
   "cell_type": "markdown",
   "metadata": {},
   "source": [
    "* Equidad entre Países, buscando la equidad promedio entre máximo y mínimo"
   ]
  },
  {
   "cell_type": "code",
   "execution_count": 11,
   "metadata": {},
   "outputs": [],
   "source": [
    "def equidad_genero (df):\n",
    "    #Filtro según groupby, Pais y Genero\n",
    "    df_genero = df.groupby(['Pais','Genero']).size().unstack(fill_value=0)\n",
    "    df_genero.columns = ['Masculino','Femenino']\n",
    "    #Genero nuevas columnas para comparar\n",
    "    df_genero['Total'] = df_genero.Masculino + df_genero.Femenino\n",
    "    df_genero['Proporción_Masculino'] = (df_genero.Masculino/df_genero.Total).round(2)\n",
    "    df_genero['Proporción_Femenino'] = (df_genero.Femenino/df_genero.Total).round(2)\n",
    "    df_genero['Equidad_Fem_Masc'] = (df_genero.Femenino/df_genero.Masculino).round(2)\n",
    "    df_genero['Equidad_Masc_Fem'] = (df_genero.Masculino/df_genero.Femenino).round(2)\n",
    "    df_genero['Equidad_Min_Max'] = (df_genero[['Femenino','Masculino']].min(axis=1) / df_genero[['Femenino','Masculino']].max(axis=1)).round(2)\n",
    "    #Ordeno por la columna Equidad Min y Max, para no sesgar y tener un punto de vista más neutro\n",
    "    df_genero_ordenado = df_genero.sort_values(by='Equidad_Min_Max',ascending=False)\n",
    "    return df_genero_ordenado"
   ]
  },
  {
   "cell_type": "markdown",
   "metadata": {},
   "source": [
    "* Buscar la menor diferencia promedio en puntajes totales por género"
   ]
  },
  {
   "cell_type": "code",
   "execution_count": 12,
   "metadata": {},
   "outputs": [],
   "source": [
    "def diferencia_puntos_genero(df):\n",
    "    df_puntos_totales = df.groupby(['Pais','Genero']).agg(\n",
    "    puntos=('Total','mean')\n",
    ").reset_index()\n",
    "\n",
    "# df_puntos_totales.columns = ['Masculino','Femenino']\n",
    "\n",
    "# Step 2: Pivot the table to create separate columns for Masculino and Femenino\n",
    "    df_pivot = df_puntos_totales.pivot(index='Pais', columns='Genero', values='puntos').reset_index()\n",
    "\n",
    "# Step 3: Fill NaN values with 0 (optional)\n",
    "    df_pivot.fillna(0, inplace=True)\n",
    "\n",
    "# Step 4: Rename the columns for clarity\n",
    "    df_pivot.columns.name = None  # Remove the categories name\n",
    "    df_pivot.rename(columns={'Femenino': 'Total_Femenino', 'Masculino': 'Total_Masculino'}, inplace=True)\n",
    "#Filtrar por valores absolutos\n",
    "    df_pivot['Diferencia_Genero'] = abs(df_pivot['Total_Masculino'] - df_pivot['Total_Femenino'])\n",
    "    df_pivot\n",
    "\n",
    "    df_pivot_ordenado = df_pivot.sort_values(by='Diferencia_Genero',ascending=True).round(2)\n",
    "\n",
    "    return(df_pivot_ordenado)\n"
   ]
  },
  {
   "cell_type": "markdown",
   "metadata": {},
   "source": [
    "* Exploración inicial"
   ]
  },
  {
   "cell_type": "code",
   "execution_count": 13,
   "metadata": {},
   "outputs": [],
   "source": [
    "def exploracion_inicial(df, tipo = None):\n",
    "   if tipo == 'version_lite':\n",
    "       print(\"¿Cuántas filas y columnas hay en el conjunto de datos?\")\n",
    "       num_filas, num_columnas = df.shape\n",
    "       print(\"\\tHay {:,} filas y {:,} columnas.\".format(num_filas, num_columnas))\n",
    "\n",
    "\n",
    "       print(\"¿Cuáles son las primeras dos filas del conjunto de datos?\")\n",
    "       display(df.head(2))\n",
    "       print('\\n########################################################################################')\n",
    "   else:\n",
    "       print(\"¿Cuántas filas y columnas hay en el conjunto de datos?\")\n",
    "       num_filas, num_columnas = df.shape\n",
    "       print(\"\\tHay {:,} filas y {:,} columnas.\".format(num_filas, num_columnas))\n",
    "       print('\\n########################################################################################')\n",
    "\n",
    "\n",
    "       print(\"¿Cuáles son las primeras cinco filas del conjunto de datos?\")\n",
    "       display(df.head())\n",
    "       print('\\n########################################################################################')\n",
    "\n",
    "\n",
    "       print(\"¿Cuáles son las últimas cinco filas del conjunto de datos?\")\n",
    "       display(df.tail())\n",
    "       print('\\n########################################################################################')\n",
    "\n",
    "\n",
    "       print(\"¿Cómo puedes obtener una muestra aleatoria de filas del conjunto de datos?\")\n",
    "       display(df.sample(n = 5))\n",
    "       print('\\n########################################################################################')\n",
    "\n",
    "\n",
    "       print(\"¿Cuáles son las columnas del conjunto de datos?\")\n",
    "       for i in list(df.columns):\n",
    "           print('\\t - ' + i)\n",
    "       print('\\n########################################################################################')\n",
    "\n",
    "\n",
    "       print(\"¿Cuál es el tipo de datos de cada columna?\")\n",
    "       print(df.dtypes)\n",
    "       print('\\n########################################################################################')\n",
    "\n",
    "\n",
    "       print(\"¿Cuántas columnas hay de cada tipo de datos?\")\n",
    "       print(df.dtypes.value_counts())\n",
    "       print('\\n########################################################################################')\n",
    "\n",
    "\n",
    "       print(\"¿Cómo podríamos obtener información más completa sobre la estructura y el contenido del DataFrame?\")\n",
    "       print(df.info())\n",
    "       print('\\n########################################################################################')\n",
    "\n",
    "\n",
    "       print(\"¿Cuántos valores únicos tiene cada columna?\")\n",
    "       print(df.nunique())\n",
    "       print('\\n########################################################################################')\n",
    "\n",
    "\n",
    "       print(\"¿Cuáles son las estadísticas descriptivas básicas de todas las columnas?\")\n",
    "       display(df.describe(include = 'all').fillna(''))\n",
    "       print('\\n########################################################################################')\n",
    "\n",
    "\n",
    "       print(\"¿Hay valores nulos en el conjunto de datos?\")\n",
    "       print(df.isnull().sum().sort_values(ascending = False))\n",
    "       print('\\n########################################################################################')\n",
    "\n",
    "\n",
    "       print(\"¿Cuál es el porcentaje de valores nulos en cada columna?\")\n",
    "       print(round((df.isnull().sum()/len(df)*100), 2).sort_values(ascending = False))\n",
    "       print('\\n########################################################################################')"
   ]
  }
 ],
 "metadata": {
  "kernelspec": {
   "display_name": "kernel_con_pandas",
   "language": "python",
   "name": "python3"
  },
  "language_info": {
   "codemirror_mode": {
    "name": "ipython",
    "version": 3
   },
   "file_extension": ".py",
   "mimetype": "text/x-python",
   "name": "python",
   "nbconvert_exporter": "python",
   "pygments_lexer": "ipython3",
   "version": "3.10.15"
  }
 },
 "nbformat": 4,
 "nbformat_minor": 2
}
